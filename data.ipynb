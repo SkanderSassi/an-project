{
 "metadata": {
  "language_info": {
   "codemirror_mode": {
    "name": "ipython",
    "version": 3
   },
   "file_extension": ".py",
   "mimetype": "text/x-python",
   "name": "python",
   "nbconvert_exporter": "python",
   "pygments_lexer": "ipython3",
   "version": "3.8.5"
  },
  "orig_nbformat": 2,
  "kernelspec": {
   "name": "python385jvsc74a57bd0049bcf8ddc4d8ffea21d5c7e00df3edd4deb4638a6add4f3a73d1e7ab6bb0333",
   "display_name": "Python 3.8.5 64-bit ('dlenv': venv)"
  },
  "metadata": {
   "interpreter": {
    "hash": "049bcf8ddc4d8ffea21d5c7e00df3edd4deb4638a6add4f3a73d1e7ab6bb0333"
   }
  }
 },
 "nbformat": 4,
 "nbformat_minor": 2,
 "cells": [
  {
   "cell_type": "code",
   "execution_count": 51,
   "metadata": {},
   "outputs": [],
   "source": [
    "import pandas as pd\n"
   ]
  },
  {
   "source": [
    "df = pd.read_csv('data.csv')\n"
   ],
   "cell_type": "code",
   "metadata": {},
   "execution_count": 52,
   "outputs": []
  },
  {
   "cell_type": "code",
   "execution_count": 27,
   "metadata": {},
   "outputs": [],
   "source": [
    "df = df.replace('\\n', ' ', regex=True)"
   ]
  },
  {
   "cell_type": "code",
   "execution_count": 47,
   "metadata": {},
   "outputs": [],
   "source": [
    "df.drop(labels=' trial_id', axis=1, inplace=True)"
   ]
  },
  {
   "cell_type": "code",
   "execution_count": 48,
   "metadata": {},
   "outputs": [],
   "source": [
    "df.rename({' data_type': 'data_type', ' algorithm': 'algorithm', ' time_spent': 'time_spent'}, inplace=True)"
   ]
  },
  {
   "cell_type": "code",
   "execution_count": 58,
   "metadata": {},
   "outputs": [],
   "source": [
    "grouped_df = df.groupby(['dimension','data_type', 'algorithm']).mean().round(decimals=5)"
   ]
  },
  {
   "cell_type": "code",
   "execution_count": 62,
   "metadata": {},
   "outputs": [
    {
     "output_type": "execute_result",
     "data": {
      "text/plain": [
       "     dimension data_type algorithm  time_spent  trial_id\n",
       "480       2000    double       IJK   52.293393         0\n",
       "481       2000    double       JIK   48.177531         0\n",
       "482       2000    double       KIJ   28.018239         0\n",
       "483       2000    double       IKJ   27.654901         0\n",
       "484       2000    double       JKI   90.647603         0\n",
       "..         ...       ...       ...         ...       ...\n",
       "555       2000     float       KIJ   25.734623         4\n",
       "556       2000     float       JKI   81.248763         4\n",
       "557       2000     float       KJI   78.049475         4\n",
       "558       2000     float        IJ    0.018033         4\n",
       "559       2000     float        JI    0.060847         4\n",
       "\n",
       "[80 rows x 5 columns]"
      ],
      "text/html": "<div>\n<style scoped>\n    .dataframe tbody tr th:only-of-type {\n        vertical-align: middle;\n    }\n\n    .dataframe tbody tr th {\n        vertical-align: top;\n    }\n\n    .dataframe thead th {\n        text-align: right;\n    }\n</style>\n<table border=\"1\" class=\"dataframe\">\n  <thead>\n    <tr style=\"text-align: right;\">\n      <th></th>\n      <th>dimension</th>\n      <th>data_type</th>\n      <th>algorithm</th>\n      <th>time_spent</th>\n      <th>trial_id</th>\n    </tr>\n  </thead>\n  <tbody>\n    <tr>\n      <th>480</th>\n      <td>2000</td>\n      <td>double</td>\n      <td>IJK</td>\n      <td>52.293393</td>\n      <td>0</td>\n    </tr>\n    <tr>\n      <th>481</th>\n      <td>2000</td>\n      <td>double</td>\n      <td>JIK</td>\n      <td>48.177531</td>\n      <td>0</td>\n    </tr>\n    <tr>\n      <th>482</th>\n      <td>2000</td>\n      <td>double</td>\n      <td>KIJ</td>\n      <td>28.018239</td>\n      <td>0</td>\n    </tr>\n    <tr>\n      <th>483</th>\n      <td>2000</td>\n      <td>double</td>\n      <td>IKJ</td>\n      <td>27.654901</td>\n      <td>0</td>\n    </tr>\n    <tr>\n      <th>484</th>\n      <td>2000</td>\n      <td>double</td>\n      <td>JKI</td>\n      <td>90.647603</td>\n      <td>0</td>\n    </tr>\n    <tr>\n      <th>...</th>\n      <td>...</td>\n      <td>...</td>\n      <td>...</td>\n      <td>...</td>\n      <td>...</td>\n    </tr>\n    <tr>\n      <th>555</th>\n      <td>2000</td>\n      <td>float</td>\n      <td>KIJ</td>\n      <td>25.734623</td>\n      <td>4</td>\n    </tr>\n    <tr>\n      <th>556</th>\n      <td>2000</td>\n      <td>float</td>\n      <td>JKI</td>\n      <td>81.248763</td>\n      <td>4</td>\n    </tr>\n    <tr>\n      <th>557</th>\n      <td>2000</td>\n      <td>float</td>\n      <td>KJI</td>\n      <td>78.049475</td>\n      <td>4</td>\n    </tr>\n    <tr>\n      <th>558</th>\n      <td>2000</td>\n      <td>float</td>\n      <td>IJ</td>\n      <td>0.018033</td>\n      <td>4</td>\n    </tr>\n    <tr>\n      <th>559</th>\n      <td>2000</td>\n      <td>float</td>\n      <td>JI</td>\n      <td>0.060847</td>\n      <td>4</td>\n    </tr>\n  </tbody>\n</table>\n<p>80 rows × 5 columns</p>\n</div>"
     },
     "metadata": {},
     "execution_count": 62
    }
   ],
   "source": [
    "df.loc[df[\"dimension\"]  == 2000 ]"
   ]
  },
  {
   "cell_type": "code",
   "execution_count": 60,
   "metadata": {},
   "outputs": [
    {
     "output_type": "execute_result",
     "data": {
      "text/plain": [
       "                               time_spent  trial_id\n",
       "dimension data_type algorithm                      \n",
       "100       double    IJ            0.00008         2\n",
       "                    IJK           0.00481         2\n",
       "                    IKJ           0.00368         2\n",
       "                    JI            0.00006         2\n",
       "                    JIK           0.00411         2\n",
       "...                                   ...       ...\n",
       "2000      float     JI            0.06086         2\n",
       "                    JIK          40.44077         2\n",
       "                    JKI          81.68030         2\n",
       "                    KIJ          26.01217         2\n",
       "                    KJI          77.12445         2\n",
       "\n",
       "[105 rows x 2 columns]"
      ],
      "text/html": "<div>\n<style scoped>\n    .dataframe tbody tr th:only-of-type {\n        vertical-align: middle;\n    }\n\n    .dataframe tbody tr th {\n        vertical-align: top;\n    }\n\n    .dataframe thead th {\n        text-align: right;\n    }\n</style>\n<table border=\"1\" class=\"dataframe\">\n  <thead>\n    <tr style=\"text-align: right;\">\n      <th></th>\n      <th></th>\n      <th></th>\n      <th>time_spent</th>\n      <th>trial_id</th>\n    </tr>\n    <tr>\n      <th>dimension</th>\n      <th>data_type</th>\n      <th>algorithm</th>\n      <th></th>\n      <th></th>\n    </tr>\n  </thead>\n  <tbody>\n    <tr>\n      <th rowspan=\"5\" valign=\"top\">100</th>\n      <th rowspan=\"5\" valign=\"top\">double</th>\n      <th>IJ</th>\n      <td>0.00008</td>\n      <td>2</td>\n    </tr>\n    <tr>\n      <th>IJK</th>\n      <td>0.00481</td>\n      <td>2</td>\n    </tr>\n    <tr>\n      <th>IKJ</th>\n      <td>0.00368</td>\n      <td>2</td>\n    </tr>\n    <tr>\n      <th>JI</th>\n      <td>0.00006</td>\n      <td>2</td>\n    </tr>\n    <tr>\n      <th>JIK</th>\n      <td>0.00411</td>\n      <td>2</td>\n    </tr>\n    <tr>\n      <th>...</th>\n      <th>...</th>\n      <th>...</th>\n      <td>...</td>\n      <td>...</td>\n    </tr>\n    <tr>\n      <th rowspan=\"5\" valign=\"top\">2000</th>\n      <th rowspan=\"5\" valign=\"top\">float</th>\n      <th>JI</th>\n      <td>0.06086</td>\n      <td>2</td>\n    </tr>\n    <tr>\n      <th>JIK</th>\n      <td>40.44077</td>\n      <td>2</td>\n    </tr>\n    <tr>\n      <th>JKI</th>\n      <td>81.68030</td>\n      <td>2</td>\n    </tr>\n    <tr>\n      <th>KIJ</th>\n      <td>26.01217</td>\n      <td>2</td>\n    </tr>\n    <tr>\n      <th>KJI</th>\n      <td>77.12445</td>\n      <td>2</td>\n    </tr>\n  </tbody>\n</table>\n<p>105 rows × 2 columns</p>\n</div>"
     },
     "metadata": {},
     "execution_count": 60
    }
   ],
   "source": [
    "grouped_df"
   ]
  },
  {
   "cell_type": "code",
   "execution_count": 63,
   "metadata": {},
   "outputs": [],
   "source": [
    "grouped_df.to_csv('./means.csv')"
   ]
  }
 ]
}