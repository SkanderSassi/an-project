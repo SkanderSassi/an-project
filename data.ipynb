{
 "metadata": {
  "language_info": {
   "codemirror_mode": {
    "name": "ipython",
    "version": 3
   },
   "file_extension": ".py",
   "mimetype": "text/x-python",
   "name": "python",
   "nbconvert_exporter": "python",
   "pygments_lexer": "ipython3",
   "version": "3.8.5"
  },
  "orig_nbformat": 2,
  "kernelspec": {
   "name": "python385jvsc74a57bd033d33a379b8b7f3acb2dda1beeba520fffb7fdc91cc6ee0b11a4d717193701c4",
   "display_name": "Python 3.8.5 64-bit ('env': venv)"
  },
  "metadata": {
   "interpreter": {
    "hash": "049bcf8ddc4d8ffea21d5c7e00df3edd4deb4638a6add4f3a73d1e7ab6bb0333"
   }
  }
 },
 "nbformat": 4,
 "nbformat_minor": 2,
 "cells": [
  {
   "cell_type": "code",
   "execution_count": 53,
   "metadata": {},
   "outputs": [],
   "source": [
    "import pandas as pd\n"
   ]
  },
  {
   "source": [
    "df = pd.read_csv('data.csv')\n"
   ],
   "cell_type": "code",
   "metadata": {},
   "execution_count": 54,
   "outputs": []
  },
  {
   "cell_type": "code",
   "execution_count": 55,
   "metadata": {},
   "outputs": [],
   "source": [
    "addition_df = df.loc[(df['algorithm'] == 'JI') | (df['algorithm'] == 'IJ')]\n",
    "\n",
    "multiplication_df = df.loc[df[\"algorithm\"].isin([\"IJK\",\"JIK\",\"KIJ\",\"IKJ\",\"JKI\",\"KJI\"])]"
   ]
  },
  {
   "cell_type": "code",
   "execution_count": 56,
   "metadata": {},
   "outputs": [],
   "source": [
    "multiplication_df.drop('trial_id',axis=1)\n",
    "addition_df.drop('trial_id',axis=1)\n",
    "mult_grouped_df = multiplication_df.groupby(['dimension','data_type', 'algorithm']).mean().round(decimals=5)\n",
    "add_grouped_df = addition_df.groupby(['dimension','data_type', 'algorithm']).mean().round(decimals=5)"
   ]
  },
  {
   "cell_type": "code",
   "execution_count": 57,
   "metadata": {},
   "outputs": [],
   "source": [
    "multiplication_df.to_csv('./mult_data.csv',index=False)\n",
    "addition_df.to_csv('./add_data.csv', index=False)\n",
    "\n",
    "mult_grouped_df.to_csv('./mult_means.csv')\n",
    "add_grouped_df.to_csv('./add_means.csv')"
   ]
  },
  {
   "cell_type": "code",
   "execution_count": null,
   "metadata": {},
   "outputs": [],
   "source": []
  }
 ]
}